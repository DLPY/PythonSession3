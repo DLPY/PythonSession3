{
  "cells": [
    {
      "cell_type": "markdown",
      "metadata": {
        "id": "view-in-github",
        "colab_type": "text"
      },
      "source": [
        "<a href=\"https://colab.research.google.com/github/DLPY/PythonSession3/blob/main/Analytics_session_for_session.ipynb\" target=\"_parent\"><img src=\"https://colab.research.google.com/assets/colab-badge.svg\" alt=\"Open In Colab\"/></a>"
      ]
    },
    {
      "cell_type": "markdown",
      "id": "bc847e85",
      "metadata": {
        "id": "bc847e85"
      },
      "source": [
        "# Hands-on section"
      ]
    },
    {
      "cell_type": "markdown",
      "id": "dec1233b",
      "metadata": {
        "id": "dec1233b"
      },
      "source": [
        "On this notebook we will try to practice some of the concepts and code we have reviewed on this session.\n",
        "\n",
        "We will take as an example a data set (results.csv) that has 44,341 results of international football matches starting from the very first official match in 1872 up to 2022. The matches range from FIFA World Cup to FIFI Wild Cup to regular friendly matches. The matches are strictly men's full internationals.\n",
        "\n",
        "Try to answer the questions by writing the code on the next cell available, that you think it is the required. The next cell will have the expected outcome or result that you should come up with, so please, do not run code on that cell, otherwise the result will be lost!"
      ]
    },
    {
      "cell_type": "markdown",
      "id": "e0c9149b",
      "metadata": {
        "id": "e0c9149b"
      },
      "source": [
        "# Some context about the data set"
      ]
    },
    {
      "cell_type": "markdown",
      "id": "8c2f6dd1",
      "metadata": {
        "id": "8c2f6dd1"
      },
      "source": [
        "results.csv contains the following columns:\n",
        "\n",
        "\n",
        "    date - date of the match\n",
        "    home_team - the name of the home team\n",
        "    away_team - the name of the away team\n",
        "    home_score - full-time home team score including extra time\n",
        "    away_score - full-time away team score including extra time\n",
        "    tournament - the name of the tournament\n",
        "    city - the name of the city/town/administrative unit where the match was played\n",
        "    country - the name of the country where the match was played\n",
        "    neutral - TRUE/FALSE column indicating whether the match was played at a neutral venue\n"
      ]
    },
    {
      "cell_type": "markdown",
      "id": "0fa80ac8",
      "metadata": {
        "id": "0fa80ac8"
      },
      "source": [
        "# Questions"
      ]
    },
    {
      "cell_type": "markdown",
      "id": "8da73b8d",
      "metadata": {
        "id": "8da73b8d"
      },
      "source": [
        "1) Import pandas and numpy and assign them as an alias: pd and np, respectively"
      ]
    },
    {
      "cell_type": "code",
      "execution_count": null,
      "id": "ec54f1f8",
      "metadata": {
        "id": "ec54f1f8"
      },
      "outputs": [],
      "source": []
    },
    {
      "cell_type": "markdown",
      "id": "54293031",
      "metadata": {
        "id": "54293031"
      },
      "source": [
        "2) Import the file results.csv and show its first 5 rows.\n",
        "\n",
        "NOTE: Don't worry about the location of the file, just write the name results.csv inside the quotes of the function that allows you to import a file"
      ]
    },
    {
      "cell_type": "code",
      "execution_count": null,
      "id": "779c173f",
      "metadata": {
        "id": "779c173f"
      },
      "outputs": [],
      "source": []
    },
    {
      "cell_type": "code",
      "execution_count": null,
      "id": "636e918d",
      "metadata": {
        "id": "636e918d",
        "outputId": "c6b4d795-3631-4544-d963-ce9ca39c6583"
      },
      "outputs": [
        {
          "data": {
            "text/html": [
              "<div>\n",
              "<style scoped>\n",
              "    .dataframe tbody tr th:only-of-type {\n",
              "        vertical-align: middle;\n",
              "    }\n",
              "\n",
              "    .dataframe tbody tr th {\n",
              "        vertical-align: top;\n",
              "    }\n",
              "\n",
              "    .dataframe thead th {\n",
              "        text-align: right;\n",
              "    }\n",
              "</style>\n",
              "<table border=\"1\" class=\"dataframe\">\n",
              "  <thead>\n",
              "    <tr style=\"text-align: right;\">\n",
              "      <th></th>\n",
              "      <th>date</th>\n",
              "      <th>home_team</th>\n",
              "      <th>away_team</th>\n",
              "      <th>home_score</th>\n",
              "      <th>away_score</th>\n",
              "      <th>tournament</th>\n",
              "      <th>city</th>\n",
              "      <th>country</th>\n",
              "      <th>neutral</th>\n",
              "    </tr>\n",
              "  </thead>\n",
              "  <tbody>\n",
              "    <tr>\n",
              "      <th>0</th>\n",
              "      <td>1872-11-30</td>\n",
              "      <td>Scotland</td>\n",
              "      <td>England</td>\n",
              "      <td>0</td>\n",
              "      <td>0</td>\n",
              "      <td>Friendly</td>\n",
              "      <td>Glasgow</td>\n",
              "      <td>Scotland</td>\n",
              "      <td>False</td>\n",
              "    </tr>\n",
              "    <tr>\n",
              "      <th>1</th>\n",
              "      <td>1873-03-08</td>\n",
              "      <td>England</td>\n",
              "      <td>Scotland</td>\n",
              "      <td>4</td>\n",
              "      <td>2</td>\n",
              "      <td>Friendly</td>\n",
              "      <td>London</td>\n",
              "      <td>England</td>\n",
              "      <td>False</td>\n",
              "    </tr>\n",
              "    <tr>\n",
              "      <th>2</th>\n",
              "      <td>1874-03-07</td>\n",
              "      <td>Scotland</td>\n",
              "      <td>England</td>\n",
              "      <td>2</td>\n",
              "      <td>1</td>\n",
              "      <td>Friendly</td>\n",
              "      <td>Glasgow</td>\n",
              "      <td>Scotland</td>\n",
              "      <td>False</td>\n",
              "    </tr>\n",
              "    <tr>\n",
              "      <th>3</th>\n",
              "      <td>1875-03-06</td>\n",
              "      <td>England</td>\n",
              "      <td>Scotland</td>\n",
              "      <td>2</td>\n",
              "      <td>2</td>\n",
              "      <td>Friendly</td>\n",
              "      <td>London</td>\n",
              "      <td>England</td>\n",
              "      <td>False</td>\n",
              "    </tr>\n",
              "    <tr>\n",
              "      <th>4</th>\n",
              "      <td>1876-03-04</td>\n",
              "      <td>Scotland</td>\n",
              "      <td>England</td>\n",
              "      <td>3</td>\n",
              "      <td>0</td>\n",
              "      <td>Friendly</td>\n",
              "      <td>Glasgow</td>\n",
              "      <td>Scotland</td>\n",
              "      <td>False</td>\n",
              "    </tr>\n",
              "  </tbody>\n",
              "</table>\n",
              "</div>"
            ],
            "text/plain": [
              "         date home_team away_team  home_score  away_score tournament     city  \\\n",
              "0  1872-11-30  Scotland   England           0           0   Friendly  Glasgow   \n",
              "1  1873-03-08   England  Scotland           4           2   Friendly   London   \n",
              "2  1874-03-07  Scotland   England           2           1   Friendly  Glasgow   \n",
              "3  1875-03-06   England  Scotland           2           2   Friendly   London   \n",
              "4  1876-03-04  Scotland   England           3           0   Friendly  Glasgow   \n",
              "\n",
              "    country  neutral  \n",
              "0  Scotland    False  \n",
              "1   England    False  \n",
              "2  Scotland    False  \n",
              "3   England    False  \n",
              "4  Scotland    False  "
            ]
          },
          "execution_count": 3,
          "metadata": {},
          "output_type": "execute_result"
        }
      ],
      "source": []
    },
    {
      "cell_type": "markdown",
      "id": "84982ca2",
      "metadata": {
        "id": "84982ca2"
      },
      "source": [
        "3) Display the data set's information about their data types, memory, range index, etc. and mention the columns that have int64 as their data type"
      ]
    },
    {
      "cell_type": "code",
      "execution_count": null,
      "id": "9f32dd7f",
      "metadata": {
        "id": "9f32dd7f"
      },
      "outputs": [],
      "source": []
    },
    {
      "cell_type": "code",
      "execution_count": null,
      "id": "de6e57ea",
      "metadata": {
        "id": "de6e57ea",
        "outputId": "c9e43db8-8f1d-4bed-975c-3435292eba87"
      },
      "outputs": [
        {
          "name": "stdout",
          "output_type": "stream",
          "text": [
            "<class 'pandas.core.frame.DataFrame'>\n",
            "RangeIndex: 44353 entries, 0 to 44352\n",
            "Data columns (total 9 columns):\n",
            " #   Column      Non-Null Count  Dtype \n",
            "---  ------      --------------  ----- \n",
            " 0   date        44353 non-null  object\n",
            " 1   home_team   44353 non-null  object\n",
            " 2   away_team   44353 non-null  object\n",
            " 3   home_score  44353 non-null  int64 \n",
            " 4   away_score  44353 non-null  int64 \n",
            " 5   tournament  44353 non-null  object\n",
            " 6   city        44353 non-null  object\n",
            " 7   country     44353 non-null  object\n",
            " 8   neutral     44353 non-null  bool  \n",
            "dtypes: bool(1), int64(2), object(6)\n",
            "memory usage: 2.7+ MB\n"
          ]
        }
      ],
      "source": []
    },
    {
      "cell_type": "markdown",
      "id": "c2bfda85",
      "metadata": {
        "id": "c2bfda85"
      },
      "source": [
        "4) How are you able to quickle get stats like the mean goals scored by the home team and by the away team and their respective standard deviation?"
      ]
    },
    {
      "cell_type": "code",
      "execution_count": null,
      "id": "819fee01",
      "metadata": {
        "id": "819fee01"
      },
      "outputs": [],
      "source": []
    },
    {
      "cell_type": "code",
      "execution_count": null,
      "id": "f0b3ef02",
      "metadata": {
        "id": "f0b3ef02",
        "outputId": "0ad5bbe7-d7a6-4b00-8df7-35385e9ef484"
      },
      "outputs": [
        {
          "data": {
            "text/html": [
              "<div>\n",
              "<style scoped>\n",
              "    .dataframe tbody tr th:only-of-type {\n",
              "        vertical-align: middle;\n",
              "    }\n",
              "\n",
              "    .dataframe tbody tr th {\n",
              "        vertical-align: top;\n",
              "    }\n",
              "\n",
              "    .dataframe thead th {\n",
              "        text-align: right;\n",
              "    }\n",
              "</style>\n",
              "<table border=\"1\" class=\"dataframe\">\n",
              "  <thead>\n",
              "    <tr style=\"text-align: right;\">\n",
              "      <th></th>\n",
              "      <th>home_score</th>\n",
              "      <th>away_score</th>\n",
              "    </tr>\n",
              "  </thead>\n",
              "  <tbody>\n",
              "    <tr>\n",
              "      <th>count</th>\n",
              "      <td>44353.000000</td>\n",
              "      <td>44353.000000</td>\n",
              "    </tr>\n",
              "    <tr>\n",
              "      <th>mean</th>\n",
              "      <td>1.740559</td>\n",
              "      <td>1.178793</td>\n",
              "    </tr>\n",
              "    <tr>\n",
              "      <th>std</th>\n",
              "      <td>1.748722</td>\n",
              "      <td>1.394580</td>\n",
              "    </tr>\n",
              "    <tr>\n",
              "      <th>min</th>\n",
              "      <td>0.000000</td>\n",
              "      <td>0.000000</td>\n",
              "    </tr>\n",
              "    <tr>\n",
              "      <th>25%</th>\n",
              "      <td>1.000000</td>\n",
              "      <td>0.000000</td>\n",
              "    </tr>\n",
              "    <tr>\n",
              "      <th>50%</th>\n",
              "      <td>1.000000</td>\n",
              "      <td>1.000000</td>\n",
              "    </tr>\n",
              "    <tr>\n",
              "      <th>75%</th>\n",
              "      <td>2.000000</td>\n",
              "      <td>2.000000</td>\n",
              "    </tr>\n",
              "    <tr>\n",
              "      <th>max</th>\n",
              "      <td>31.000000</td>\n",
              "      <td>21.000000</td>\n",
              "    </tr>\n",
              "  </tbody>\n",
              "</table>\n",
              "</div>"
            ],
            "text/plain": [
              "         home_score    away_score\n",
              "count  44353.000000  44353.000000\n",
              "mean       1.740559      1.178793\n",
              "std        1.748722      1.394580\n",
              "min        0.000000      0.000000\n",
              "25%        1.000000      0.000000\n",
              "50%        1.000000      1.000000\n",
              "75%        2.000000      2.000000\n",
              "max       31.000000     21.000000"
            ]
          },
          "execution_count": 5,
          "metadata": {},
          "output_type": "execute_result"
        }
      ],
      "source": []
    },
    {
      "cell_type": "markdown",
      "id": "f4579da5",
      "metadata": {
        "id": "f4579da5"
      },
      "source": [
        "5) Create a new column called total_goals that will have the total goals scored for each match and show the maximum number of goals scored in a single match"
      ]
    },
    {
      "cell_type": "code",
      "execution_count": null,
      "id": "5a4d4fbb",
      "metadata": {
        "id": "5a4d4fbb"
      },
      "outputs": [],
      "source": []
    },
    {
      "cell_type": "code",
      "execution_count": null,
      "id": "1e47d07c",
      "metadata": {
        "id": "1e47d07c",
        "outputId": "387f2152-14b5-4e9d-f5a6-8312097cc11e"
      },
      "outputs": [
        {
          "data": {
            "text/plain": [
              "31"
            ]
          },
          "execution_count": 9,
          "metadata": {},
          "output_type": "execute_result"
        }
      ],
      "source": []
    },
    {
      "cell_type": "markdown",
      "id": "207d5c93",
      "metadata": {
        "id": "207d5c93"
      },
      "source": [
        "6) Show the full details of that match that had 31 goals in total"
      ]
    },
    {
      "cell_type": "code",
      "execution_count": null,
      "id": "52371526",
      "metadata": {
        "id": "52371526"
      },
      "outputs": [],
      "source": []
    },
    {
      "cell_type": "code",
      "execution_count": null,
      "id": "a3a3c7e1",
      "metadata": {
        "id": "a3a3c7e1",
        "outputId": "3f218b53-b45b-40dc-fe2a-ccd4e07163f1"
      },
      "outputs": [
        {
          "data": {
            "text/html": [
              "<div>\n",
              "<style scoped>\n",
              "    .dataframe tbody tr th:only-of-type {\n",
              "        vertical-align: middle;\n",
              "    }\n",
              "\n",
              "    .dataframe tbody tr th {\n",
              "        vertical-align: top;\n",
              "    }\n",
              "\n",
              "    .dataframe thead th {\n",
              "        text-align: right;\n",
              "    }\n",
              "</style>\n",
              "<table border=\"1\" class=\"dataframe\">\n",
              "  <thead>\n",
              "    <tr style=\"text-align: right;\">\n",
              "      <th></th>\n",
              "      <th>date</th>\n",
              "      <th>home_team</th>\n",
              "      <th>away_team</th>\n",
              "      <th>home_score</th>\n",
              "      <th>away_score</th>\n",
              "      <th>tournament</th>\n",
              "      <th>city</th>\n",
              "      <th>country</th>\n",
              "      <th>neutral</th>\n",
              "      <th>total_goals</th>\n",
              "    </tr>\n",
              "  </thead>\n",
              "  <tbody>\n",
              "    <tr>\n",
              "      <th>24160</th>\n",
              "      <td>2001-04-11</td>\n",
              "      <td>Australia</td>\n",
              "      <td>American Samoa</td>\n",
              "      <td>31</td>\n",
              "      <td>0</td>\n",
              "      <td>FIFA World Cup qualification</td>\n",
              "      <td>Coffs Harbour</td>\n",
              "      <td>Australia</td>\n",
              "      <td>False</td>\n",
              "      <td>31</td>\n",
              "    </tr>\n",
              "  </tbody>\n",
              "</table>\n",
              "</div>"
            ],
            "text/plain": [
              "             date  home_team       away_team  home_score  away_score  \\\n",
              "24160  2001-04-11  Australia  American Samoa          31           0   \n",
              "\n",
              "                         tournament           city    country  neutral  \\\n",
              "24160  FIFA World Cup qualification  Coffs Harbour  Australia    False   \n",
              "\n",
              "       total_goals  \n",
              "24160           31  "
            ]
          },
          "execution_count": 11,
          "metadata": {},
          "output_type": "execute_result"
        }
      ],
      "source": []
    },
    {
      "cell_type": "markdown",
      "id": "ff82fd9f",
      "metadata": {
        "id": "ff82fd9f"
      },
      "source": [
        "7) Get the total number of goals scored by England when they have played as the home team"
      ]
    },
    {
      "cell_type": "code",
      "execution_count": null,
      "id": "79d9e363",
      "metadata": {
        "id": "79d9e363"
      },
      "outputs": [],
      "source": []
    },
    {
      "cell_type": "code",
      "execution_count": null,
      "id": "5d3cca5e",
      "metadata": {
        "id": "5d3cca5e",
        "outputId": "48881e76-d433-4756-8a6e-19110303e84f"
      },
      "outputs": [
        {
          "data": {
            "text/html": [
              "<div>\n",
              "<style scoped>\n",
              "    .dataframe tbody tr th:only-of-type {\n",
              "        vertical-align: middle;\n",
              "    }\n",
              "\n",
              "    .dataframe tbody tr th {\n",
              "        vertical-align: top;\n",
              "    }\n",
              "\n",
              "    .dataframe thead th {\n",
              "        text-align: right;\n",
              "    }\n",
              "</style>\n",
              "<table border=\"1\" class=\"dataframe\">\n",
              "  <thead>\n",
              "    <tr style=\"text-align: right;\">\n",
              "      <th></th>\n",
              "      <th>home_score</th>\n",
              "      <th>away_score</th>\n",
              "      <th>neutral</th>\n",
              "      <th>total_goals</th>\n",
              "    </tr>\n",
              "    <tr>\n",
              "      <th>home_team</th>\n",
              "      <th></th>\n",
              "      <th></th>\n",
              "      <th></th>\n",
              "      <th></th>\n",
              "    </tr>\n",
              "  </thead>\n",
              "  <tbody>\n",
              "    <tr>\n",
              "      <th>England</th>\n",
              "      <td>1205</td>\n",
              "      <td>465</td>\n",
              "      <td>56</td>\n",
              "      <td>1670</td>\n",
              "    </tr>\n",
              "  </tbody>\n",
              "</table>\n",
              "</div>"
            ],
            "text/plain": [
              "           home_score  away_score  neutral  total_goals\n",
              "home_team                                              \n",
              "England          1205         465       56         1670"
            ]
          },
          "execution_count": 18,
          "metadata": {},
          "output_type": "execute_result"
        }
      ],
      "source": []
    }
  ],
  "metadata": {
    "kernelspec": {
      "display_name": "Python 3",
      "language": "python",
      "name": "python3"
    },
    "language_info": {
      "codemirror_mode": {
        "name": "ipython",
        "version": 3
      },
      "file_extension": ".py",
      "mimetype": "text/x-python",
      "name": "python",
      "nbconvert_exporter": "python",
      "pygments_lexer": "ipython3",
      "version": "3.8.8"
    },
    "colab": {
      "provenance": [],
      "include_colab_link": true
    }
  },
  "nbformat": 4,
  "nbformat_minor": 5
}